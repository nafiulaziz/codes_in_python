{
  "nbformat": 4,
  "nbformat_minor": 0,
  "metadata": {
    "colab": {
      "provenance": [],
      "authorship_tag": "ABX9TyO/XzuoOewEmCN5lYUEUntz",
      "include_colab_link": true
    },
    "kernelspec": {
      "name": "python3",
      "display_name": "Python 3"
    },
    "language_info": {
      "name": "python"
    }
  },
  "cells": [
    {
      "cell_type": "markdown",
      "metadata": {
        "id": "view-in-github",
        "colab_type": "text"
      },
      "source": [
        "<a href=\"https://colab.research.google.com/github/nafiulaziz/codes_in_python/blob/main/random.ipynb\" target=\"_parent\"><img src=\"https://colab.research.google.com/assets/colab-badge.svg\" alt=\"Open In Colab\"/></a>"
      ]
    },
    {
      "cell_type": "code",
      "execution_count": 1,
      "metadata": {
        "id": "8XdxW3NDrHzF",
        "colab": {
          "base_uri": "https://localhost:8080/"
        },
        "outputId": "3af0f5bf-7259-417d-f4ce-54cf5a75e86a"
      },
      "outputs": [
        {
          "output_type": "stream",
          "name": "stdout",
          "text": [
            "Hello Bangladesh\n"
          ]
        }
      ],
      "source": [
        "print(\"Hello Bangladesh\")"
      ]
    },
    {
      "cell_type": "code",
      "source": [
        "z = int(\"3\")\n",
        "z=z+3\n",
        "print(z)"
      ],
      "metadata": {
        "id": "4wA4lY3Kg1Id",
        "colab": {
          "base_uri": "https://localhost:8080/"
        },
        "outputId": "1b9d4ce2-6810-454b-a46d-ebe7aaabd0ac"
      },
      "execution_count": 2,
      "outputs": [
        {
          "output_type": "stream",
          "name": "stdout",
          "text": [
            "6\n"
          ]
        }
      ]
    },
    {
      "cell_type": "code",
      "source": [
        "print('Hellow Bangladesh')"
      ],
      "metadata": {
        "id": "zuGb37QHr2L9",
        "colab": {
          "base_uri": "https://localhost:8080/"
        },
        "outputId": "78f93b3f-b4c8-4e88-e41e-8c9a5165c490"
      },
      "execution_count": 3,
      "outputs": [
        {
          "output_type": "stream",
          "name": "stdout",
          "text": [
            "Hellow Bangladesh\n"
          ]
        }
      ]
    },
    {
      "cell_type": "code",
      "source": [
        "p=105\n",
        "print(p)\n",
        "type(p)"
      ],
      "metadata": {
        "id": "CXmJDEussJdC",
        "colab": {
          "base_uri": "https://localhost:8080/"
        },
        "outputId": "4fee5f07-5bbe-4fd4-a3a5-b6316f7ec947"
      },
      "execution_count": 4,
      "outputs": [
        {
          "output_type": "stream",
          "name": "stdout",
          "text": [
            "105\n"
          ]
        },
        {
          "output_type": "execute_result",
          "data": {
            "text/plain": [
              "int"
            ]
          },
          "metadata": {},
          "execution_count": 4
        }
      ]
    },
    {
      "cell_type": "code",
      "source": [
        "2*3+4"
      ],
      "metadata": {
        "id": "u7Lqq8iFsXcw",
        "colab": {
          "base_uri": "https://localhost:8080/"
        },
        "outputId": "1f2f072f-1bc2-4443-9960-fd06cc48e4ab"
      },
      "execution_count": 5,
      "outputs": [
        {
          "output_type": "execute_result",
          "data": {
            "text/plain": [
              "10"
            ]
          },
          "metadata": {},
          "execution_count": 5
        }
      ]
    },
    {
      "cell_type": "code",
      "source": [
        "b = 2.0\n",
        "print (b*3.0)\n",
        "print(5.0**3)"
      ],
      "metadata": {
        "id": "AVvkIrjM-0i-",
        "colab": {
          "base_uri": "https://localhost:8080/"
        },
        "outputId": "f086b86d-79b2-4b8e-9bd4-f084037bd3ed"
      },
      "execution_count": 6,
      "outputs": [
        {
          "output_type": "stream",
          "name": "stdout",
          "text": [
            "6.0\n",
            "125.0\n"
          ]
        }
      ]
    },
    {
      "cell_type": "code",
      "source": [
        "input()"
      ],
      "metadata": {
        "id": "owFde9Yy_Tlp",
        "colab": {
          "base_uri": "https://localhost:8080/",
          "height": 53
        },
        "outputId": "e9518973-2b9f-4a24-dd0f-dd812763f27f"
      },
      "execution_count": 7,
      "outputs": [
        {
          "name": "stdout",
          "output_type": "stream",
          "text": [
            "45\n"
          ]
        },
        {
          "output_type": "execute_result",
          "data": {
            "text/plain": [
              "'45'"
            ],
            "application/vnd.google.colaboratory.intrinsic+json": {
              "type": "string"
            }
          },
          "metadata": {},
          "execution_count": 7
        }
      ]
    },
    {
      "cell_type": "code",
      "source": [
        "n = float(input( \"enter num1: \"))\n",
        "print(n)"
      ],
      "metadata": {
        "id": "pjcXoFju_d1I",
        "colab": {
          "base_uri": "https://localhost:8080/"
        },
        "outputId": "6c464d84-d88c-48df-e214-58bdddfc38c2"
      },
      "execution_count": 8,
      "outputs": [
        {
          "output_type": "stream",
          "name": "stdout",
          "text": [
            "enter num1: 12\n",
            "12.0\n"
          ]
        }
      ]
    },
    {
      "cell_type": "code",
      "source": [
        "#calcu\n",
        "m = float(input( \"enter num1: \"))\n",
        "o = input( \"enter operator: \")\n",
        "n = float(input( \"enter num2: \"))\n",
        "if o==\"+\":\n",
        "  print(\"addition is: \", +(m+n))\n",
        "elif o==\"-\":\n",
        "  print(\"substration is: \", +(m-n))\n",
        "else:\n",
        "  print(\"enter op\")"
      ],
      "metadata": {
        "id": "FHt6G9u4_5ef",
        "colab": {
          "base_uri": "https://localhost:8080/"
        },
        "outputId": "f9c6bfde-f2f1-4fd6-c279-891d16f12b2d"
      },
      "execution_count": 9,
      "outputs": [
        {
          "output_type": "stream",
          "name": "stdout",
          "text": [
            "enter num1: 12\n",
            "enter operator: +\n",
            "enter num2: 12\n",
            "addition is:  24.0\n"
          ]
        }
      ]
    },
    {
      "cell_type": "code",
      "source": [
        "#while_loop\n",
        "i=1\n",
        "while i<6:\n",
        "  print(i)\n",
        "  i=i+1\n"
      ],
      "metadata": {
        "id": "trV-bU-86Qnt",
        "colab": {
          "base_uri": "https://localhost:8080/"
        },
        "outputId": "885bd9fe-4df8-4768-e085-d3f9ff20025b"
      },
      "execution_count": 10,
      "outputs": [
        {
          "output_type": "stream",
          "name": "stdout",
          "text": [
            "1\n",
            "2\n",
            "3\n",
            "4\n",
            "5\n"
          ]
        }
      ]
    },
    {
      "cell_type": "code",
      "source": [
        "y=int(3)\n",
        "print(float(y))"
      ],
      "metadata": {
        "id": "G6DPvDCJ8hzh",
        "colab": {
          "base_uri": "https://localhost:8080/"
        },
        "outputId": "3198fa9d-c59a-40cf-e598-634d86cf5e34"
      },
      "execution_count": 11,
      "outputs": [
        {
          "output_type": "stream",
          "name": "stdout",
          "text": [
            "3.0\n"
          ]
        }
      ]
    },
    {
      "cell_type": "code",
      "source": [
        "z=5.2\n",
        "print(int(z))\n",
        "print(z**3)\n",
        "print(6/2)"
      ],
      "metadata": {
        "id": "RwGj0Xtv86Vc",
        "colab": {
          "base_uri": "https://localhost:8080/"
        },
        "outputId": "3a0ce6af-6d52-4ccd-c0ad-4e60fe97cbf1"
      },
      "execution_count": 12,
      "outputs": [
        {
          "output_type": "stream",
          "name": "stdout",
          "text": [
            "5\n",
            "140.608\n",
            "3.0\n"
          ]
        }
      ]
    },
    {
      "cell_type": "code",
      "source": [
        "number= input(\"enter the number: \")\n",
        "print(\"The number is:\",number)"
      ],
      "metadata": {
        "id": "EZo_16bSljw_",
        "colab": {
          "base_uri": "https://localhost:8080/"
        },
        "outputId": "00281fa7-c3be-459b-fbee-d302b5022d8c"
      },
      "execution_count": 13,
      "outputs": [
        {
          "output_type": "stream",
          "name": "stdout",
          "text": [
            "enter the number: 12\n",
            "The number is: 12\n"
          ]
        }
      ]
    },
    {
      "cell_type": "code",
      "source": [
        "number= int(input(\"enter the number: \"))\n",
        "print(\"Total number is:\", (number+100))"
      ],
      "metadata": {
        "id": "iTUaX82wlnzh",
        "colab": {
          "base_uri": "https://localhost:8080/"
        },
        "outputId": "9675347f-29ea-4cc5-fc4f-447fe3d437c3"
      },
      "execution_count": 14,
      "outputs": [
        {
          "output_type": "stream",
          "name": "stdout",
          "text": [
            "enter the number: 12\n",
            "Total number is: 112\n"
          ]
        }
      ]
    },
    {
      "cell_type": "code",
      "source": [
        "y = int(\"3\")\n",
        "print(y)\n",
        "print(float(y))\n",
        "type(y)"
      ],
      "metadata": {
        "id": "DaF1um4t2_XU",
        "colab": {
          "base_uri": "https://localhost:8080/"
        },
        "outputId": "962173fe-cce6-402a-866f-f0e89dc4b1a1"
      },
      "execution_count": 15,
      "outputs": [
        {
          "output_type": "stream",
          "name": "stdout",
          "text": [
            "3\n",
            "3.0\n"
          ]
        },
        {
          "output_type": "execute_result",
          "data": {
            "text/plain": [
              "int"
            ]
          },
          "metadata": {},
          "execution_count": 15
        }
      ]
    },
    {
      "cell_type": "code",
      "source": [
        "na = \"Nafiul Aziz Ifty\"\n",
        "print(na[3:8])"
      ],
      "metadata": {
        "id": "aJko3Pqp8v7U",
        "colab": {
          "base_uri": "https://localhost:8080/"
        },
        "outputId": "294cb817-0f23-4a4a-f71e-ccddc8aec4b9"
      },
      "execution_count": 16,
      "outputs": [
        {
          "output_type": "stream",
          "name": "stdout",
          "text": [
            "iul A\n"
          ]
        }
      ]
    },
    {
      "cell_type": "code",
      "source": [
        "for i in range(5):\n",
        " print (i)"
      ],
      "metadata": {
        "id": "1DD3kQ6zJJB2",
        "colab": {
          "base_uri": "https://localhost:8080/"
        },
        "outputId": "1aed4453-23c0-46e0-eee5-bc7f3eac7c29"
      },
      "execution_count": 17,
      "outputs": [
        {
          "output_type": "stream",
          "name": "stdout",
          "text": [
            "0\n",
            "1\n",
            "2\n",
            "3\n",
            "4\n"
          ]
        }
      ]
    },
    {
      "cell_type": "code",
      "source": [
        "for i in range(1,5):\n",
        " print (i)"
      ],
      "metadata": {
        "id": "iHToQDn9QA2c",
        "colab": {
          "base_uri": "https://localhost:8080/"
        },
        "outputId": "7f3da562-ca65-475f-f341-f929e6425655"
      },
      "execution_count": 19,
      "outputs": [
        {
          "output_type": "stream",
          "name": "stdout",
          "text": [
            "1\n",
            "2\n",
            "3\n",
            "4\n"
          ]
        }
      ]
    },
    {
      "cell_type": "code",
      "source": [
        "for i in range(1,11,2):\n",
        " print (i)"
      ],
      "metadata": {
        "id": "AkjV9-l3P5Sl",
        "colab": {
          "base_uri": "https://localhost:8080/"
        },
        "outputId": "259c8eef-a354-41e8-e666-92d469d00500"
      },
      "execution_count": 20,
      "outputs": [
        {
          "output_type": "stream",
          "name": "stdout",
          "text": [
            "1\n",
            "3\n",
            "5\n",
            "7\n",
            "9\n"
          ]
        }
      ]
    },
    {
      "cell_type": "code",
      "source": [
        "for i in \"Apple\":\n",
        " print (i)"
      ],
      "metadata": {
        "colab": {
          "base_uri": "https://localhost:8080/"
        },
        "id": "qfTKfYcdvwFq",
        "outputId": "10e0bec0-aa3e-4b8e-ecf3-9240acdf797a"
      },
      "execution_count": 21,
      "outputs": [
        {
          "output_type": "stream",
          "name": "stdout",
          "text": [
            "A\n",
            "p\n",
            "p\n",
            "l\n",
            "e\n"
          ]
        }
      ]
    },
    {
      "cell_type": "code",
      "source": [
        "dic = {1:'rifat', 2:'sifat'}\n",
        "print(dic[2])\n",
        "type(dic)"
      ],
      "metadata": {
        "id": "n4NCgcLScpgA",
        "colab": {
          "base_uri": "https://localhost:8080/"
        },
        "outputId": "00a5da1f-bd29-46fb-dcca-37ad3b9140c7"
      },
      "execution_count": 22,
      "outputs": [
        {
          "output_type": "stream",
          "name": "stdout",
          "text": [
            "sifat\n"
          ]
        },
        {
          "output_type": "execute_result",
          "data": {
            "text/plain": [
              "dict"
            ]
          },
          "metadata": {},
          "execution_count": 22
        }
      ]
    },
    {
      "cell_type": "code",
      "source": [
        "s=\"I live in Dhaka.\"\n",
        "print(len(s))"
      ],
      "metadata": {
        "colab": {
          "base_uri": "https://localhost:8080/"
        },
        "id": "WHTrWycRtjkG",
        "outputId": "fae428a6-679f-4835-ef56-041d661c9a4e"
      },
      "execution_count": 23,
      "outputs": [
        {
          "output_type": "stream",
          "name": "stdout",
          "text": [
            "16\n"
          ]
        }
      ]
    },
    {
      "cell_type": "code",
      "source": [
        "text =\"Hello, this is Ifty\"\n",
        "\n",
        "print(text[16:19])\n",
        "if \"Ifty\" in text:\n",
        "    print (\"Ifty is present in the text.\")\n",
        "else:\n",
        "  print(\"not in the text\")"
      ],
      "metadata": {
        "colab": {
          "base_uri": "https://localhost:8080/"
        },
        "id": "f9twIOEhxH7i",
        "outputId": "f5b801b6-a395-489d-bd91-47f65718f6ac"
      },
      "execution_count": 24,
      "outputs": [
        {
          "output_type": "stream",
          "name": "stdout",
          "text": [
            "fty\n",
            "Ifty is present in the text.\n"
          ]
        }
      ]
    },
    {
      "cell_type": "code",
      "source": [
        "i = 1\n",
        "while i<5:\n",
        " print(i, end=\" \")\n",
        " i+=1\n",
        " print(\"Covid\")"
      ],
      "metadata": {
        "colab": {
          "base_uri": "https://localhost:8080/"
        },
        "id": "yqfAzT7AEGXh",
        "outputId": "4dd2e259-3168-4133-8a9f-cc510e3137eb"
      },
      "execution_count": 25,
      "outputs": [
        {
          "output_type": "stream",
          "name": "stdout",
          "text": [
            "1 Covid\n",
            "2 Covid\n",
            "3 Covid\n",
            "4 Covid\n"
          ]
        }
      ]
    },
    {
      "cell_type": "code",
      "source": [
        "for i in range(1,5):\n",
        "  print(i, end=\" \")\n",
        "  print(\"Covid\")"
      ],
      "metadata": {
        "colab": {
          "base_uri": "https://localhost:8080/"
        },
        "id": "bEDOi52EEzOR",
        "outputId": "857bfbd0-89f9-40fd-b949-9e21942a7184"
      },
      "execution_count": 27,
      "outputs": [
        {
          "output_type": "stream",
          "name": "stdout",
          "text": [
            "1 Covid\n",
            "2 Covid\n",
            "3 Covid\n",
            "4 Covid\n"
          ]
        }
      ]
    },
    {
      "cell_type": "code",
      "source": [
        "n = input(\"Enter your age \")\n",
        "print(n)"
      ],
      "metadata": {
        "colab": {
          "base_uri": "https://localhost:8080/"
        },
        "id": "zeHkbnALh2O7",
        "outputId": "e65b9577-82dc-42bf-a020-a455709e1d83"
      },
      "execution_count": 28,
      "outputs": [
        {
          "output_type": "stream",
          "name": "stdout",
          "text": [
            "Enter your age 12\n",
            "12\n"
          ]
        }
      ]
    },
    {
      "cell_type": "code",
      "source": [
        "input(\"Enter your age \")"
      ],
      "metadata": {
        "colab": {
          "base_uri": "https://localhost:8080/",
          "height": 53
        },
        "id": "TXGkNFVziQ46",
        "outputId": "46908060-d276-4616-ee3c-ce9b2c969119"
      },
      "execution_count": 29,
      "outputs": [
        {
          "name": "stdout",
          "output_type": "stream",
          "text": [
            "Enter your age 12\n"
          ]
        },
        {
          "output_type": "execute_result",
          "data": {
            "text/plain": [
              "'12'"
            ],
            "application/vnd.google.colaboratory.intrinsic+json": {
              "type": "string"
            }
          },
          "metadata": {},
          "execution_count": 29
        }
      ]
    },
    {
      "cell_type": "code",
      "source": [
        "x = 4\n",
        "x **= 2\n",
        "print(x)"
      ],
      "metadata": {
        "colab": {
          "base_uri": "https://localhost:8080/"
        },
        "id": "cOjpOudQoWvK",
        "outputId": "f58955b6-1677-4a25-9343-b49f3410fa9c"
      },
      "execution_count": 30,
      "outputs": [
        {
          "output_type": "stream",
          "name": "stdout",
          "text": [
            "16\n"
          ]
        }
      ]
    },
    {
      "cell_type": "code",
      "source": [
        "x = 4\n",
        "f= 2\n",
        "print(x**f)"
      ],
      "metadata": {
        "colab": {
          "base_uri": "https://localhost:8080/"
        },
        "id": "KKZDoD7fpgSB",
        "outputId": "4b8c5abb-a821-42dc-fd45-9c75c2018fbe"
      },
      "execution_count": 31,
      "outputs": [
        {
          "output_type": "stream",
          "name": "stdout",
          "text": [
            "16\n"
          ]
        }
      ]
    },
    {
      "cell_type": "code",
      "source": [
        "text =\"Hello, World\"\n",
        "\n",
        "print(text[4:9])"
      ],
      "metadata": {
        "colab": {
          "base_uri": "https://localhost:8080/"
        },
        "id": "v7avvsTmr8e5",
        "outputId": "a3dfb7a1-8e12-4925-e8d7-1c76c051e41f"
      },
      "execution_count": 32,
      "outputs": [
        {
          "output_type": "stream",
          "name": "stdout",
          "text": [
            "o, Wo\n"
          ]
        }
      ]
    },
    {
      "cell_type": "code",
      "source": [
        "for i in range(1,6):\n",
        "  for j in range(1,i+1):\n",
        "    print(\"*\", end=\" \")\n",
        "  print()"
      ],
      "metadata": {
        "colab": {
          "base_uri": "https://localhost:8080/"
        },
        "id": "4GyGzK5afeG9",
        "outputId": "7ea3a667-965d-42d0-842d-e02ce9f68c90"
      },
      "execution_count": 33,
      "outputs": [
        {
          "output_type": "stream",
          "name": "stdout",
          "text": [
            "* \n",
            "* * \n",
            "* * * \n",
            "* * * * \n",
            "* * * * * \n"
          ]
        }
      ]
    }
  ]
}